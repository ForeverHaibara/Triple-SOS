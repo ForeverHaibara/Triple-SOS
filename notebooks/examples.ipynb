{
 "cells": [
  {
   "cell_type": "code",
   "execution_count": null,
   "id": "0a17c2e4",
   "metadata": {
    "scrolled": true
   },
   "outputs": [],
   "source": [
    "# # Place the triples folder under the directory!\n",
    "\n",
    "# !git clone https://github.com/ForeverHaibara/Triple-SOS.git\n",
    "# !cp Triple-SOS/triples triples\n",
    "\n",
    "!pip install sympy>=1.10 --user\n",
    "!pip install scipy>=1.6 --user\n",
    "!pip install numpy --user\n",
    "!pip install clarabel --user  # if not successful, install cvxopt instead\n",
    "# please RESTART the kernel after installation"
   ]
  },
  {
   "cell_type": "markdown",
   "id": "c0e38c68",
   "metadata": {},
   "source": [
    "# Triples\n",
    "\n",
    "**GitHub** https://github.com/ForeverHaibara/Triple-SOS\n",
    "\n",
    "<!-- Symbolic computation is based on SymPy. -->\n",
    "\n",
    "The package helps prove algebraic inequalities via exact sum-of-squares."
   ]
  },
  {
   "cell_type": "code",
   "execution_count": 4,
   "id": "5d1df007-0c51-416a-8dad-f57bd330099d",
   "metadata": {
    "execution": {
     "iopub.execute_input": "2024-09-20T12:43:39.713050Z",
     "iopub.status.busy": "2024-09-20T12:43:39.712590Z",
     "iopub.status.idle": "2024-09-20T12:43:41.540994Z",
     "shell.execute_reply": "2024-09-20T12:43:41.539889Z",
     "shell.execute_reply.started": "2024-09-20T12:43:39.713025Z"
    },
    "scrolled": true,
    "tags": []
   },
   "outputs": [],
   "source": [
    "from triples.utils import *\n",
    "# from triples.core import sum_of_squares\n",
    "from triples.core import *\n",
    "from IPython.display import display\n",
    "import sympy as sp\n",
    "from sympy import sqrt, Rational\n",
    "import numpy as np\n",
    "a, b, c, d, e, f, g, h, i, j, k, l, m, n, o, p, q, r, s, t, u, v, w, x, y, z = sp.symbols('a:z') # define SymPy symbols"
   ]
  },
  {
   "cell_type": "markdown",
   "id": "dc0d5021",
   "metadata": {},
   "source": [
    "## Basic Usage\n",
    "\n",
    "Use `sum_of_squares(expr, ineq_constraints=[], eq_constraints=[])` to prove `expr >= 0`.\n",
    "\n",
    "`Ineq_constraints` and `eq_constraints` are lists of symbolic expressions that are nonnegative and zero, respectively.\n",
    "\n",
    "If it fails, it returns None. If it succeeds, it returns a Solution object.\n",
    "\n",
    "The solution expression can be accessed by `.solution` property.\n",
    "\n",
    "<!-- `sum_of_squares(expr: Expr, ineq_constraints: Union[List[Expr], Dict[Expr, Expr]], eq_constraints: Union[List[Expr], Dict[Expr, Expr]])` -->\n",
    "\n",
    "#### Example: Nesbitt's Inequality\n",
    "\n",
    "Goal: Prove that $\\frac{a}{b+c}+\\frac{b}{c+a}+\\frac{c}{a+b} - \\frac{3}{2}\\geq 0$ given $a\\geq 0,b\\geq 0,c\\geq 0$."
   ]
  },
  {
   "cell_type": "code",
   "execution_count": 5,
   "id": "f736ec38",
   "metadata": {
    "scrolled": true
   },
   "outputs": [
    {
     "name": "stdout",
     "output_type": "stream",
     "text": [
      "Solution(problem = Σa/(b + c) - 3/2, solution = ((Σa*(b - c)**2)/2 + (Σa*(-2*a + b + c)**2)/2)/(2*(a + b)*(a + c)*(b + c)))\r\n"
     ]
    },
    {
     "data": {
      "text/latex": [
       "$\\displaystyle \\left(a + b\\right) \\left(a + c\\right) \\left(b + c\\right) \\left(\\sum_{\\mathrm{cyc}} \\frac{a}{b + c} - \\frac{3}{2}\\right) = \\frac{\\sum_{\\mathrm{cyc}} a \\left(b - c\\right)^{2}}{4} + \\frac{\\sum_{\\mathrm{cyc}} a \\left(- 2 a + b + c\\right)^{2}}{4}$"
      ],
      "text/plain": [
       "Solution(problem = Σa/(b + c) - 3/2, solution = ((Σa*(b - c)**2)/2 + (Σa*(-2*a + b + c)**2)/2)/(2*(a + b)*(a + c)*(b + c)))"
      ]
     },
     "execution_count": 5,
     "metadata": {},
     "output_type": "execute_result"
    }
   ],
   "source": [
    "# Proving a/(b+c) + b/(c+a) + c/(a+b) >= 3/2 given a>=0, b>=0, c>=0\n",
    "sol = sum_of_squares(CyclicSum(a/(b+c), (a,b,c)) - Rational(3,2), [a,b,c])\n",
    "print(sol)\n",
    "sol"
   ]
  },
  {
   "cell_type": "code",
   "execution_count": 73,
   "id": "c13b1d92",
   "metadata": {
    "scrolled": true
   },
   "outputs": [
    {
     "name": "stdout",
     "output_type": "stream",
     "text": [
      "Type of sol.solution = <class 'sympy.core.mul.Mul'>\r\n"
     ]
    },
    {
     "data": {
      "text/latex": [
       "$\\displaystyle \\frac{\\frac{\\sum_{\\mathrm{cyc}} a \\left(b - c\\right)^{2}}{2} + \\frac{\\sum_{\\mathrm{cyc}} a \\left(- 2 a + b + c\\right)^{2}}{2}}{2 \\left(a + b\\right) \\left(a + c\\right) \\left(b + c\\right)}$"
      ],
      "text/plain": [
       "((Σa*(b - c)**2)/2 + (Σa*(-2*a + b + c)**2)/2)/(2*(a + b)*(a + c)*(b + c))"
      ]
     },
     "metadata": {},
     "output_type": "display_data"
    },
    {
     "data": {
      "text/latex": [
       "$\\displaystyle \\frac{\\frac{a \\left(b - c\\right)^{2}}{2} + \\frac{a \\left(- 2 a + b + c\\right)^{2}}{2} + \\frac{b \\left(- a + c\\right)^{2}}{2} + \\frac{b \\left(a - 2 b + c\\right)^{2}}{2} + \\frac{c \\left(a - b\\right)^{2}}{2} + \\frac{c \\left(a + b - 2 c\\right)^{2}}{2}}{2 \\left(a + b\\right) \\left(a + c\\right) \\left(b + c\\right)}$"
      ],
      "text/plain": [
       "(a*(b - c)**2/2 + a*(-2*a + b + c)**2/2 + b*(-a + c)**2/2 + b*(a - 2*b + c)**2/2 + c*(a - b)**2/2 + c*(a + b - 2*c)**2/2)/(2*(a + b)*(a + c)*(b + c))"
      ]
     },
     "metadata": {},
     "output_type": "display_data"
    },
    {
     "name": "stdout",
     "output_type": "stream",
     "text": [
      "Is equal = True\r\n"
     ]
    }
   ],
   "source": [
    "sol = sum_of_squares(CyclicSum(a/(b+c), (a,b,c)) - Rational(3,2), [a,b,c])\n",
    "print('Type of sol.solution =', type(sol.solution))\n",
    "\n",
    "display(sol.solution) # the original solution is equal to this\n",
    "display(sol.solution.doit()) # expand the cyclic sums\n",
    "\n",
    "# Verify the result is correct (of course it is unless there is a bug)\n",
    "diff = sol.solution - (a/(b+c)+b/(c+a)+c/(a+b) - Rational(3,2))\n",
    "print('Is equal =', diff.simplify() == 0)"
   ]
  },
  {
   "cell_type": "code",
   "execution_count": 74,
   "id": "4cac0d55",
   "metadata": {
    "scrolled": true
   },
   "outputs": [
    {
     "data": {
      "text/latex": [
       "$\\displaystyle \\sum_{\\mathrm{cyc}} \\frac{a}{b + c} - \\frac{3}{2} = \\frac{\\sum_{\\mathrm{cyc}} a \\left(b - c\\right)^{2} + \\sum_{\\mathrm{cyc}} a \\left(- 2 a + b + c\\right)^{2}}{4 \\left(a + b\\right) \\left(a + c\\right) \\left(b + c\\right)}$"
      ],
      "text/plain": [
       "Eq(Σa/(b + c) - 3/2, (Σa*(b - c)**2 + Σa*(-2*a + b + c)**2)/(4*(a + b)*(a + c)*(b + c)))"
      ]
     },
     "execution_count": 74,
     "metadata": {},
     "output_type": "execute_result"
    }
   ],
   "source": [
    "# Another display format: not to cancel the denominator:\n",
    "sol = sum_of_squares(CyclicSum(a/(b+c), (a,b,c)) - Rational(3,2), [a,b,c])\n",
    "sol.as_eq(cancel=False) # this is a sympy Equality object"
   ]
  },
  {
   "cell_type": "markdown",
   "id": "fe2c770e",
   "metadata": {},
   "source": [
    "\n",
    "#### Example: Schur's inequality\n",
    "\n",
    "Goal: Prove that $x^4(x-y)(x-z)+y^4(y-z)(y-x)+z^4(z-x)(z-y)\\geq 0$ for all real numbers $x,y,z$."
   ]
  },
  {
   "cell_type": "code",
   "execution_count": 57,
   "id": "7e62c35c",
   "metadata": {
    "scrolled": true
   },
   "outputs": [
    {
     "data": {
      "text/latex": [
       "$\\displaystyle \\left(x^{4} \\left(x - y\\right) \\left(x - z\\right) + y^{4} \\left(- x + y\\right) \\left(y - z\\right) + z^{4} \\left(- x + z\\right) \\left(- y + z\\right)\\right) \\sum_{\\mathrm{cyc}} \\left(x - y\\right)^{2} = \\frac{\\left(4 \\left(\\sum_{\\mathrm{cyc}} x\\right)^{2} + 3 \\sum_{\\mathrm{cyc}} \\left(x - y\\right)^{2}\\right) \\prod_{\\mathrm{cyc}} \\left(x - y\\right)^{2}}{3} + \\frac{\\sum_{\\mathrm{cyc}} \\left(x - y\\right)^{2} \\left(- 3 x^{3} + x^{2} y + 2 x^{2} z + x y^{2} - 4 x y z + 3 x z^{2} - 3 y^{3} + 2 y^{2} z + 3 y z^{2} - 2 z^{3}\\right)^{2}}{9}$"
      ],
      "text/plain": [
       "Solution(problem = x**4*(x - y)*(x - z) + y**4*(-x + y)*(y - z) + z**4*(-x + z)*(-y + z), solution = ((4*(Σx)**2/3 + Σ(x - y)**2)*(∏(x - y)**2) + (Σ(x - y)**2*(-3*x**3 + x**2*y + 2*x**2*z + x*y**2 - 4*x*y*z + 3*x*z**2 - 3*y**3 + 2*y**2*z + 3*y*z**2 - 2*z**3)**2)/9)/(Σ(x - y)**2))"
      ]
     },
     "execution_count": 57,
     "metadata": {},
     "output_type": "execute_result"
    }
   ],
   "source": [
    "# Proving Schur's inequality of degree 6 for real numbers x,y,z. There are no inequality or equality constraints.\n",
    "\n",
    "sum_of_squares(x**4*(x-y)*(x-z) + y**4*(y-z)*(y-x) + z**4*(z-x)*(z-y))\n",
    "\n",
    "# sum_of_squares(x**4*(x-y)*(x-z) + y**4*(y-z)*(y-x) + z**4*(z-x)*(z-y)).doit() # Try using .doit() to expand cyclic sums"
   ]
  },
  {
   "cell_type": "code",
   "execution_count": 68,
   "id": "87bb3d03",
   "metadata": {
    "scrolled": true
   },
   "outputs": [
    {
     "name": "stdout",
     "output_type": "stream",
     "text": [
      "\\left(x^{4} \\left(x - y\\right) \\left(x - z\\right) + y^{4} \\left(- x + y\\right) \\left(y - z\\right) + z^{4} \\left(- x + z\\right) \\left(- y + z\\right)\\right) \\sum_{\\mathrm{cyc}} \\left(x - y\\right)^{2} = \\frac{\\left(4 \\left(\\sum_{\\mathrm{cyc}} x\\right)^{2} + 3 \\sum_{\\mathrm{cyc}} \\left(x - y\\right)^{2}\\right) \\prod_{\\mathrm{cyc}} \\left(x - y\\right)^{2}}{3} + \\frac{\\sum_{\\mathrm{cyc}} \\left(x - y\\right)^{2} \\left(- 3 x^{3} + x^{2} y + 2 x^{2} z + x y^{2} - 4 x y z + 3 x z^{2} - 3 y^{3} + 2 y^{2} z + 3 y z^{2} - 2 z^{3}\\right)^{2}}{9}\r\n",
      "================================================================================\r\n",
      "================================================================================\r\n",
      "\\left(x^{4} \\left(x - y\\right) \\left(x - z\\right) + y^{4} \\left(- x + y\\right) \\left(y - z\\right) + z^{4} \\left(- x + z\\right) \\left(- y + z\\right)\\right) \\left(\\left(- x + z\\right)^{2} + \\left(x - y\\right)^{2} + \\left(y - z\\right)^{2}\\right) = \\frac{\\left(- x + z\\right)^{2} \\left(x - y\\right)^{2} \\left(y - z\\right)^{2} \\left(3 \\left(- x + z\\right)^{2} + 3 \\left(x - y\\right)^{2} + 3 \\left(y - z\\right)^{2} + 4 \\left(x + y + z\\right)^{2}\\right)}{3} + \\frac{\\left(- x + z\\right)^{2} \\left(- 3 x^{3} + 2 x^{2} y + x^{2} z + 3 x y^{2} - 4 x y z + x z^{2} - 2 y^{3} + 3 y^{2} z + 2 y z^{2} - 3 z^{3}\\right)^{2}}{9} + \\frac{\\left(x - y\\right)^{2} \\left(- 3 x^{3} + x^{2} y + 2 x^{2} z + x y^{2} - 4 x y z + 3 x z^{2} - 3 y^{3} + 2 y^{2} z + 3 y z^{2} - 2 z^{3}\\right)^{2}}{9} + \\frac{\\left(y - z\\right)^{2} \\left(- 2 x^{3} + 3 x^{2} y + 3 x^{2} z + 2 x y^{2} - 4 x y z + 2 x z^{2} - 3 y^{3} + y^{2} z + y z^{2} - 3 z^{3}\\right)^{2}}{9}\r\n"
     ]
    }
   ],
   "source": [
    "# get the tex code of the solution using `.to_string()`\n",
    "sol = sum_of_squares(x**4*(x-y)*(x-z) + y**4*(y-z)*(y-x) + z**4*(z-x)*(z-y))\n",
    "string = sol.to_string()\n",
    "print(string)\n",
    "\n",
    "print('='*80+'\\n'+'='*80)\n",
    "string2 = sol.doit().to_string() # the string after expanding cyclic sums\n",
    "print(string2)"
   ]
  },
  {
   "cell_type": "markdown",
   "id": "c7d79199",
   "metadata": {},
   "source": [
    "#### Example: 2000 IMO P2\n",
    "\n",
    "Goal: (2000 IMO P2) Given $a,b,c\\geq 0$, $abc=1$, prove that $(a-1+\\frac 1b)(b-1+\\frac 1c)(c-1+\\frac 1a)\\leq 1$."
   ]
  },
  {
   "cell_type": "code",
   "execution_count": 8,
   "id": "6849f0b2",
   "metadata": {
    "scrolled": true
   },
   "outputs": [
    {
     "data": {
      "text/latex": [
       "$\\displaystyle a b c \\left(- \\left(a - 1 + \\frac{1}{b}\\right) \\left(b - 1 + \\frac{1}{c}\\right) \\left(c - 1 + \\frac{1}{a}\\right) + 1\\right) \\sum_{\\mathrm{cyc}} \\left(17 a b + 74 b + 16 \\left(1 - b\\right)^{2} + 7 \\left(a - b\\right)^{2}\\right) = \\frac{\\left(a b c - 1\\right) \\sum_{\\mathrm{cyc}} \\left(- 6 a^{2} b c^{2} + 6 a^{2} c^{2} - 60 a b^{3} c + 27 a b^{2} - 14 a b c + 15 a + 32\\right)}{2} + \\frac{3 \\sum_{\\mathrm{cyc}} \\left(a - 1\\right)^{2} \\left(3 b^{2} c \\left(b - 1\\right)^{2} + b \\left(- b c + 1\\right)^{2} + 17 b + 9 c \\left(b - 1\\right)^{2} \\left(b - c\\right)^{2}\\right)}{4} + \\frac{3 \\sum_{\\mathrm{cyc}} a \\left(c - 1\\right)^{2} \\left(28 a^{3} b + 31 a^{2} + 6 a b c + 16 a + 16 b \\left(a - 1\\right)^{2}\\right)}{4} + \\frac{3 \\sum_{\\mathrm{cyc}} a b \\left(- a + b c\\right)^{2} \\left(6 b + 1\\right)}{2} + 21 \\sum_{\\mathrm{cyc}} a b^{2} c^{2} \\left(b - 1\\right)^{2}$"
      ],
      "text/plain": [
       "Solution(problem = -(a - 1 + 1/b)*(b - 1 + 1/c)*(c - 1 + 1/a) + 1, solution = ((a*b*c - 1)*(Σ(-3*a**2*b*c**2 + 3*a**2*c**2 - 30*a*b**3*c + 27*a*b**2/2 - 7*a*b*c + 15*a/2 + 16)) + 3*(Σ(a - 1)**2*(3*b**2*c*(b - 1)**2 + b*(-b*c + 1)**2 + 17*b + 9*c*(b - 1)**2*(b - c)**2))/4 + 3*(Σ(a - 1)**2*(6*a*b**2*c + 28*b**4*c + 31*b**3 + 16*b**2 + 16*b*c*(b - 1)**2))/4 + 3*(Σa*(-a + b*c)**2*(6*b**2 + b))/2 + 21*(Σa*b**2*c**2*(b - 1)**2))/(a*b*c*(Σ(17*a*b + 74*b + 16*(1 - b)**2 + 7*(a - b)**2))))"
      ]
     },
     "execution_count": 8,
     "metadata": {},
     "output_type": "execute_result"
    }
   ],
   "source": [
    "sum_of_squares(1 - (a-1+1/b)*(b-1+1/c)*(c-1+1/a), [a,b,c], [a*b*c-1])"
   ]
  },
  {
   "cell_type": "markdown",
   "id": "2b03f005",
   "metadata": {},
   "source": [
    "### Properties and Methods of `Solution` class objects:\n",
    "\n",
    "* `.solution` returns the SymPy expression, which is equal to the input expression\n",
    "* `.time` returns the solving time\n",
    "* `.as_eq()` returns a SymPy Equality object, which has `.lhs` and `.rhs` properties.\n",
    "* `.to_string()` returns the string\n",
    "* `.doit()` returns a new Solution object with cyclic expressions expanded\n",
    "* `.xreplace(...)` returns a new Solution by applying `xrepalce` on the solution\n",
    "* (More to be added)"
   ]
  },
  {
   "cell_type": "markdown",
   "id": "10a3ed3a",
   "metadata": {},
   "source": [
    "## Using Alias\n",
    "\n",
    "Use a python dictionary rather a list to provide the \"alias\" of a constraint. This helps track the constraints.\n",
    "It works for both inequality and equality constraints."
   ]
  },
  {
   "cell_type": "code",
   "execution_count": 31,
   "id": "d5dd4600",
   "metadata": {
    "scrolled": true
   },
   "outputs": [
    {
     "data": {
      "text/latex": [
       "$\\displaystyle - 3 x - 4 y + 5 = - \\frac{5 x^{2}}{2} - \\frac{5 y^{2}}{2} + \\frac{\\left(5 x - 3\\right)^{2}}{10} + \\frac{\\left(5 y - 4\\right)^{2}}{10} + \\frac{5}{2}$"
      ],
      "text/plain": [
       "Solution(problem = -3*x - 4*y + 5, solution = -5*x**2/2 - 5*y**2/2 + 9*(5*x/3 - 1)**2/10 + 8*(5*y/4 - 1)**2/5 + 5/2)"
      ]
     },
     "metadata": {},
     "output_type": "display_data"
    },
    {
     "data": {
      "text/latex": [
       "$\\displaystyle - 3 x - 4 y + 5 = - \\frac{5 a}{2} + \\frac{\\left(5 x - 3\\right)^{2}}{10} + \\frac{\\left(5 y - 4\\right)^{2}}{10}$"
      ],
      "text/plain": [
       "Solution(problem = -3*x - 4*y + 5, solution = -5*a/2 + 9*(5*x/3 - 1)**2/10 + 8*(5*y/4 - 1)**2/5)"
      ]
     },
     "metadata": {},
     "output_type": "display_data"
    },
    {
     "data": {
      "text/latex": [
       "$\\displaystyle - 3 x - 4 y + 5 = - \\frac{5 (x^{2}+y^{2}-1)}{2} + \\frac{\\left(5 x - 3\\right)^{2}}{10} + \\frac{\\left(5 y - 4\\right)^{2}}{10}$"
      ],
      "text/plain": [
       "Solution(problem = -3*x - 4*y + 5, solution = -5*(x^{2}+y^{2}-1)/2 + 9*(5*x/3 - 1)**2/10 + 8*(5*y/4 - 1)**2/5)"
      ]
     },
     "metadata": {},
     "output_type": "display_data"
    }
   ],
   "source": [
    "# Proving 5 - 3x - 4y >= 0 given no inequality constraint and one equality constraint x^2+y^2=1:\n",
    "display(sum_of_squares(5 - 3*x - 4*y, [], [x**2+y**2-1]))\n",
    "\n",
    "# We can also let x^2+y^2-1 = a = 0 by using a dictionary:\n",
    "display(sum_of_squares(5 - 3*x - 4*y, [], {x**2+y**2-1: a}))\n",
    "\n",
    "# Let it be a symbol called \"(x^{2}+y^{2}-1)\", this avoids expanding the terms:\n",
    "display(sum_of_squares(5 - 3*x - 4*y, [], {x**2+y**2-1: sp.Symbol('(x^{2}+y^{2}-1)')}))"
   ]
  },
  {
   "cell_type": "code",
   "execution_count": 58,
   "id": "398f1628",
   "metadata": {
    "scrolled": true
   },
   "outputs": [
    {
     "data": {
      "text/latex": [
       "$\\displaystyle \\sum_{\\mathrm{cyc}} a^{2} \\left(a + b\\right) \\left(b - c\\right) \\sum_{\\mathrm{cyc}} F{\\left(a \\right)} = \\frac{\\sum_{\\mathrm{cyc}} \\left(\\left(- b + c\\right)^{2} F{\\left(a \\right)} F{\\left(c \\right)} + 2 \\left(a^{2} - 2 a c + b c\\right)^{2}\\right) F{\\left(b \\right)}}{2}$"
      ],
      "text/plain": [
       "Solution(problem = Σa**2*(a + b)*(b - c), solution = (Σ((-b + c)**2*F(a)*F(c) + 2*(a**2 - 2*a*c + b*c)**2)*F(b))/(2*(ΣF(a))))"
      ]
     },
     "execution_count": 58,
     "metadata": {},
     "output_type": "execute_result"
    }
   ],
   "source": [
    "# Proving CyclicSum(a**2*(a+b)*(b-c), (a,b,c)) >= 0 given b+c-a>=0, c+a-b>=0, a+b-c >= 0\n",
    "# We also let F(a), F(b), F(c) = b+c-a, c+a-b, a+b-c by using a dictionary:\n",
    "F = sp.Function('F')\n",
    "sum_of_squares(CyclicSum(a**2*(a+b)*(b-c), (a,b,c)), {b+c-a:F(a), c+a-b:F(b), a+b-c:F(c)})"
   ]
  },
  {
   "cell_type": "markdown",
   "id": "af35f401",
   "metadata": {},
   "source": [
    "## More Advanced Features\n",
    "\n",
    "More advanced features:\n",
    "\n",
    "* Squareroots and other algebraic operators (sympy.Abs/Max/Min) are supported.\n",
    "\n",
    "* Sines, cosines and other trignometric functions are supported if it is algebraic after a change of the variables.\n",
    "\n",
    "These features are still under active development and are very likely to fail for difficult problems. It is recommended to simplify the problem manually if you can."
   ]
  },
  {
   "cell_type": "code",
   "execution_count": 80,
   "id": "2abf6292",
   "metadata": {
    "scrolled": true
   },
   "outputs": [
    {
     "data": {
      "text/latex": [
       "$\\displaystyle \\left(\\left(- \\frac{1}{2} + \\frac{\\sqrt{13 + 16 \\sqrt{2}}}{2}\\right) \\left(- x + z\\right) \\left(x - y\\right) \\left(y - z\\right) + \\sum_{\\mathrm{cyc}} x^{3} - \\sum_{\\mathrm{cyc}} x z^{2}\\right) \\sum_{\\mathrm{cyc}} x y = \\prod_{\\mathrm{cyc}} x \\sum_{\\mathrm{cyc}} \\left(x - y\\right)^{2} + \\frac{\\sum_{\\mathrm{cyc}} x \\left(14 y^{2} + y \\left(- x + z\\right) \\left(- 3 \\sqrt{13 + 16 \\sqrt{2}} + 7 + \\sqrt{2} \\sqrt{13 + 16 \\sqrt{2}} + 7 \\sqrt{2}\\right) - 14 z^{2} + z \\left(x - y\\right) \\left(- \\sqrt{2} \\sqrt{13 + 16 \\sqrt{2}} + 7 + 7 \\sqrt{2} + 3 \\sqrt{13 + 16 \\sqrt{2}}\\right)\\right)^{2}}{196}$"
      ],
      "text/plain": [
       "Solution(problem = (-1/2 + sqrt(13 + 16*sqrt(2))/2)*(-x + z)*(x - y)*(y - z) + Σx**3 - Σx*z**2, solution = (2*(∏x)*(Σ(x - y)**2) + (Σx*(14*y**2 + y*(-x + z)*(-3*sqrt(13 + 16*sqrt(2)) + 7 + sqrt(2)*sqrt(13 + 16*sqrt(2)) + 7*sqrt(2)) - 14*z**2 + z*(x - y)*(-sqrt(2)*sqrt(13 + 16*sqrt(2)) + 7 + 7*sqrt(2) + 3*sqrt(13 + 16*sqrt(2))))**2)/98)/(2*(Σx*y)))"
      ]
     },
     "execution_count": 80,
     "metadata": {},
     "output_type": "execute_result"
    }
   ],
   "source": [
    "# Proving x^3+y^3+z^3-(x^2y+y^2z+z^2x) + (sqrt(13+16sqrt(2))-1)/2*(x-y)(y-z)(z-x) >= 0 for x,y,z >= 0\n",
    "problem = CyclicSum(x**3,(x,y,z))-CyclicSum(x**2*y,(x,y,z)) + (sqrt(13+16*sqrt(2))-1)/2*(x-y)*(y-z)*(z-x)\n",
    "sum_of_squares(problem, [x,y,z]) # hint: use .doit() to expand cyclic sums"
   ]
  },
  {
   "cell_type": "code",
   "execution_count": 98,
   "id": "fc6c55bf",
   "metadata": {
    "scrolled": true
   },
   "outputs": [
    {
     "name": "stdout",
     "output_type": "stream",
     "text": [
      "Success = True\r\n"
     ]
    },
    {
     "data": {
      "text/latex": [
       "$\\displaystyle \\left(a \\sqrt{4 a^{2} + 5 b c} + b \\sqrt{5 a c + 4 b^{2}} + c \\sqrt{5 a b + 4 c^{2}} - \\left(a + b + c\\right)^{2}\\right) \\sum \\left(1421056 a^{4} + 24360896 a^{3} b + 355264 a^{3} \\sqrt{4 a^{2} + 5 b c} + 57425824 a^{2} b^{2} + 78723325 a^{2} b c + 35310640 a^{2} b \\sqrt{4 a^{2} + 5 b c} + 583648 a^{2} \\sqrt{4 a^{2} + 5 b c} \\sqrt{5 a c + 4 b^{2}} + 10962432 a b^{2} \\sqrt{4 a^{2} + 5 b c} + 2042768 a b \\sqrt{4 a^{2} + 5 b c} \\sqrt{5 a c + 4 b^{2}} + 1547936 a c \\sqrt{4 a^{2} + 5 b c} \\sqrt{5 a c + 4 b^{2}} + 355264 a \\sqrt{4 a^{2} + 5 b c} \\sqrt{5 a b + 4 c^{2}} \\sqrt{5 a c + 4 b^{2}} + 583648 b^{3} \\sqrt{4 a^{2} + 5 b c} + 6521632 b^{2} c \\sqrt{4 a^{2} + 5 b c} + 1421056 c^{2} \\sqrt{4 a^{2} + 5 b c} \\sqrt{5 a c + 4 b^{2}}\\right) = \\frac{\\sum a \\left(- \\sqrt{4 a^{2} + 5 b c} + \\sqrt{5 a c + 4 b^{2}}\\right)^{2} \\left(6983095 b c \\sqrt{5 a c + 4 b^{2}} + 15320728 b \\left(- a + b\\right)^{2} + 3007056 \\left(- a + c\\right)^{2} \\sqrt{5 a c + 4 b^{2}}\\right)}{2} + \\frac{\\sum a \\left(\\sqrt{4 a^{2} + 5 b c} - \\sqrt{5 a c + 4 b^{2}}\\right)^{2} \\left(16687876 b^{2} c + 4291307 b^{2} \\sqrt{4 a^{2} + 5 b c} + 1903200 b \\sqrt{5 a b + 4 c^{2}} \\sqrt{5 a c + 4 b^{2}} + 133224 \\sqrt{4 a^{2} + 5 b c} \\left(- \\sqrt{4 a^{2} + 5 b c} + \\sqrt{5 a b + 4 c^{2}}\\right)^{2}\\right)}{2} + 49914528 \\sum a^{2} b^{2} \\left(a - b\\right)^{2} + 12478632 \\sum a b \\left(a - b\\right)^{2} \\left(c - \\sqrt{5 a c + 4 b^{2}}\\right)^{2} + 38 \\sum a b^{2} \\left(a - b\\right)^{2} \\left(100023 \\sqrt{4 a^{2} + 5 b c} + 79300 \\sqrt{5 a b + 4 c^{2}}\\right) + \\frac{\\sum a b c \\left(- 3 c + \\sqrt{4 a^{2} + 5 b c}\\right)^{2} \\left(16144582 c + 19213793 \\sqrt{4 a^{2} + 5 b c}\\right)}{2} + 4632698 \\sum a b \\sqrt{4 a^{2} + 5 b c} \\sqrt{5 a c + 4 b^{2}} \\left(\\sqrt{4 a^{2} + 5 b c} - \\sqrt{5 a c + 4 b^{2}}\\right)^{2}$"
      ],
      "text/plain": [
       "Solution(problem = a*sqrt(4*a**2 + 5*b*c) + b*sqrt(5*a*c + 4*b**2) + c*sqrt(5*a*b + 4*c**2) - (a + b + c)**2, solution = ((Σa*(-sqrt(4*a**2 + 5*b*c) + sqrt(5*a*c + 4*b**2))**2*(6983095*b*c*sqrt(5*a*c + 4*b**2) + 15320728*b*(-a + b)**2 + 3007056*(-a + c)**2*sqrt(5*a*c + 4*b**2)))/2 + (Σa*(sqrt(4*a**2 + 5*b*c) - sqrt(5*a*c + 4*b**2))**2*(16687876*b**2*c + 4291307*b**2*sqrt(4*a**2 + 5*b*c) + 1903200*b*sqrt(5*a*b + 4*c**2)*sqrt(5*a*c + 4*b**2) + 133224*sqrt(4*a**2 + 5*b*c)*(-sqrt(4*a**2 + 5*b*c) + sqrt(5*a*b + 4*c**2))**2))/2 + 49914528*(Σa**2*b**2*(a - b)**2) + 12478632*(Σa*b*(a - b)**2*(c - sqrt(5*a*c + 4*b**2))**2) + (Σa*b*(-3*c + sqrt(4*a**2 + 5*b*c))**2*(16144582*c**2 + 19213793*c*sqrt(4*a**2 + 5*b*c)))/2 + 38*(Σb*c**2*(b - c)**2*(79300*sqrt(4*a**2 + 5*b*c) + 100023*sqrt(5*a*c + 4*b**2))) + 4632698*(Σa*b*sqrt(4*a**2 + 5*b*c)*sqrt(5*a*c + 4*b**2)*(sqrt(4*a**2 + 5*b*c) - sqrt(5*a*c + 4*b**2))**2))/(Σ(1421056*a**4 + 24360896*a**3*b + 355264*a**3*sqrt(4*a**2 + 5*b*c) + 57425824*a**2*b**2 + 78723325*a**2*b*c + 35310640*a**2*b*sqrt(4*a**2 + 5*b*c) + 583648*a**2*sqrt(4*a**2 + 5*b*c)*sqrt(5*a*c + 4*b**2) + 10962432*a*b**2*sqrt(4*a**2 + 5*b*c) + 2042768*a*b*sqrt(4*a**2 + 5*b*c)*sqrt(5*a*c + 4*b**2) + 1547936*a*c*sqrt(4*a**2 + 5*b*c)*sqrt(5*a*c + 4*b**2) + 355264*a*sqrt(4*a**2 + 5*b*c)*sqrt(5*a*b + 4*c**2)*sqrt(5*a*c + 4*b**2) + 583648*b**3*sqrt(4*a**2 + 5*b*c) + 6521632*b**2*c*sqrt(4*a**2 + 5*b*c) + 1421056*c**2*sqrt(4*a**2 + 5*b*c)*sqrt(5*a*c + 4*b**2))))"
      ]
     },
     "metadata": {},
     "output_type": "display_data"
    },
    {
     "name": "stdout",
     "output_type": "stream",
     "text": [
      "Problem.subs({a:1,b:4,c:7}) = 10.678066681158278314\r\n",
      "Solution.subs({a:1,b:4,c:7}) = 10.678066681158278314\r\n"
     ]
    }
   ],
   "source": [
    "# Proving a*sqrt(4*a**2+5*b*c) + b*sqrt(4*b**2+5*c*a) + c*sqrt(4*c**2+5*a*b) >= (a+b+c)^2 for a,b,c >= 0\n",
    "problem = a*sqrt(4*a**2+5*b*c) + b*sqrt(4*b**2+5*c*a) + c*sqrt(4*c**2+5*a*b) - (a+b+c)**2\n",
    "sol = sum_of_squares(problem, [a,b,c])\n",
    "print('Success =', sol is not None)\n",
    "display(sol)\n",
    "\n",
    "# Verify sol.solution == problem when (a,b,c) = (1,4,7) numerically (20 digits):\n",
    "# (expanding might take too much time)\n",
    "print('Problem.subs({a:1,b:4,c:7}) =', problem.subs({a:1,b:4,c:7}).simplify().n(20))\n",
    "print('Solution.subs({a:1,b:4,c:7}) =', sol.solution.subs({a:1,b:4,c:7}).simplify().n(20))"
   ]
  },
  {
   "cell_type": "code",
   "execution_count": 54,
   "id": "bb651e04",
   "metadata": {
    "scrolled": true
   },
   "outputs": [
    {
     "name": "stdout",
     "output_type": "stream",
     "text": [
      "Success = True\r\n"
     ]
    },
    {
     "data": {
      "text/latex": [
       "$\\displaystyle - \\sin{\\left(x \\right)} - \\sin{\\left(2 x \\right)} - \\sin{\\left(3 x \\right)} + \\frac{5}{2} = \\frac{\\left(- \\sin{\\left(x \\right)} + \\cos{\\left(x \\right)}\\right)^{4} + 4 \\left(- \\sin{\\left(x \\right)} + \\cos^{2}{\\left(x \\right)}\\right)^{2}}{2 \\left(\\sin^{2}{\\left(\\frac{x}{2} \\right)} + \\cos^{2}{\\left(\\frac{x}{2} \\right)}\\right)}$"
      ],
      "text/plain": [
       "Eq(-sin(x) - sin(2*x) - sin(3*x) + 5/2, ((-sin(x) + cos(x))**4 + 4*(-sin(x) + cos(x)**2)**2)/(2*(sin(x/2)**2 + cos(x/2)**2)))"
      ]
     },
     "metadata": {},
     "output_type": "display_data"
    },
    {
     "name": "stdout",
     "output_type": "stream",
     "text": [
      "Problem.subs({x:2}) = 2.6269205666811724288\r\n",
      "Solution.subs({x:2}) = 2.6269205666811724288\r\n"
     ]
    }
   ],
   "source": [
    "# Proving sin(x)+sin(2x)+sin(3x) <= 5/2 given a real number x:\n",
    "problem = Rational(5,2) - sp.sin(x) - sp.sin(2*x) - sp.sin(3*x)\n",
    "sol = sum_of_squares(problem)\n",
    "print('Success =', sol is not None)\n",
    "display(sol.as_eq(cancel=False))\n",
    "\n",
    "# Verify sol.solution == problem when x = 2 numerically (20 digits):\n",
    "# (simplification might take too much time)\n",
    "print('Problem.subs({x:2}) =', problem.subs({x:2}).simplify().n(20))\n",
    "print('Solution.subs({x:2}) =', sol.solution.subs({x:2}).simplify().n(20))"
   ]
  },
  {
   "cell_type": "code",
   "execution_count": 76,
   "id": "827bab6f",
   "metadata": {
    "scrolled": true
   },
   "outputs": [
    {
     "data": {
      "text/latex": [
       "$\\displaystyle \\left|{x}\\right| + \\left|{y}\\right| - \\left|{x + y}\\right| = \\frac{\\left(x y - \\left|{x}\\right| \\left|{y}\\right|\\right)^{2}}{\\left(\\left|{x}\\right| + \\left|{y}\\right| + \\left|{x + y}\\right|\\right) \\left|{x}\\right| \\left|{y}\\right|}$"
      ],
      "text/plain": [
       "Eq(Abs(x) + Abs(y) - Abs(x + y), (x*y - Abs(x)*Abs(y))**2/((Abs(x) + Abs(y) + Abs(x + y))*Abs(x)*Abs(y)))"
      ]
     },
     "execution_count": 76,
     "metadata": {},
     "output_type": "execute_result"
    }
   ],
   "source": [
    "# Proving |x|+|y|>=|x+y|\n",
    "sum_of_squares(sp.Abs(x)+sp.Abs(y)-sp.Abs(x+y)).doit().as_eq(cancel=False)"
   ]
  }
 ],
 "metadata": {
  "kernelspec": {
   "display_name": "Python 3",
   "language": "python",
   "name": "py35-paddle1.2.0"
  },
  "language_info": {
   "codemirror_mode": {
    "name": "ipython",
    "version": 3
   },
   "file_extension": ".py",
   "mimetype": "text/x-python",
   "name": "python",
   "nbconvert_exporter": "python",
   "pygments_lexer": "ipython3",
   "version": "3.10.10"
  },
  "vscode": {
   "interpreter": {
    "hash": "09f0dbf7b1569c1ab842ae2f41770fe6aa1b54326d081112fa5944b99abb5899"
   }
  }
 },
 "nbformat": 4,
 "nbformat_minor": 5
}
